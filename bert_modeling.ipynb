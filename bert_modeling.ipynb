{
  "nbformat": 4,
  "nbformat_minor": 0,
  "metadata": {
    "colab": {
      "name": "bert_modeling.ipynb",
      "provenance": [],
      "collapsed_sections": []
    },
    "kernelspec": {
      "name": "python3",
      "display_name": "Python 3"
    },
    "widgets": {
      "application/vnd.jupyter.widget-state+json": {
        "1f07dd969f414db7a7ebaec64a29bbf5": {
          "model_module": "@jupyter-widgets/controls",
          "model_name": "HBoxModel",
          "state": {
            "_view_name": "HBoxView",
            "_dom_classes": [],
            "_model_name": "HBoxModel",
            "_view_module": "@jupyter-widgets/controls",
            "_model_module_version": "1.5.0",
            "_view_count": null,
            "_view_module_version": "1.5.0",
            "box_style": "",
            "layout": "IPY_MODEL_1dbfd81d42ec435ab7f7cb685a3e9d1e",
            "_model_module": "@jupyter-widgets/controls",
            "children": [
              "IPY_MODEL_3727e7dfbb2b499e91d81e7478481f2d",
              "IPY_MODEL_98af509c15c64c6789cba514dd8bb5fb"
            ]
          }
        },
        "1dbfd81d42ec435ab7f7cb685a3e9d1e": {
          "model_module": "@jupyter-widgets/base",
          "model_name": "LayoutModel",
          "state": {
            "_view_name": "LayoutView",
            "grid_template_rows": null,
            "right": null,
            "justify_content": null,
            "_view_module": "@jupyter-widgets/base",
            "overflow": null,
            "_model_module_version": "1.2.0",
            "_view_count": null,
            "flex_flow": null,
            "width": null,
            "min_width": null,
            "border": null,
            "align_items": null,
            "bottom": null,
            "_model_module": "@jupyter-widgets/base",
            "top": null,
            "grid_column": null,
            "overflow_y": null,
            "overflow_x": null,
            "grid_auto_flow": null,
            "grid_area": null,
            "grid_template_columns": null,
            "flex": null,
            "_model_name": "LayoutModel",
            "justify_items": null,
            "grid_row": null,
            "max_height": null,
            "align_content": null,
            "visibility": null,
            "align_self": null,
            "height": null,
            "min_height": null,
            "padding": null,
            "grid_auto_rows": null,
            "grid_gap": null,
            "max_width": null,
            "order": null,
            "_view_module_version": "1.2.0",
            "grid_template_areas": null,
            "object_position": null,
            "object_fit": null,
            "grid_auto_columns": null,
            "margin": null,
            "display": null,
            "left": null
          }
        },
        "3727e7dfbb2b499e91d81e7478481f2d": {
          "model_module": "@jupyter-widgets/controls",
          "model_name": "FloatProgressModel",
          "state": {
            "_view_name": "ProgressView",
            "style": "IPY_MODEL_d7f5731a7a4a4092a87f5bc1a5fd8fbf",
            "_dom_classes": [],
            "description": "Downloading: 100%",
            "_model_name": "FloatProgressModel",
            "bar_style": "success",
            "max": 995526,
            "_view_module": "@jupyter-widgets/controls",
            "_model_module_version": "1.5.0",
            "value": 995526,
            "_view_count": null,
            "_view_module_version": "1.5.0",
            "orientation": "horizontal",
            "min": 0,
            "description_tooltip": null,
            "_model_module": "@jupyter-widgets/controls",
            "layout": "IPY_MODEL_e4a342a5733944d99d9ad5c28fbae152"
          }
        },
        "98af509c15c64c6789cba514dd8bb5fb": {
          "model_module": "@jupyter-widgets/controls",
          "model_name": "HTMLModel",
          "state": {
            "_view_name": "HTMLView",
            "style": "IPY_MODEL_ca8a61af805e486fa3043f5086af79dc",
            "_dom_classes": [],
            "description": "",
            "_model_name": "HTMLModel",
            "placeholder": "​",
            "_view_module": "@jupyter-widgets/controls",
            "_model_module_version": "1.5.0",
            "value": " 996k/996k [00:00&lt;00:00, 2.10MB/s]",
            "_view_count": null,
            "_view_module_version": "1.5.0",
            "description_tooltip": null,
            "_model_module": "@jupyter-widgets/controls",
            "layout": "IPY_MODEL_b6220d6cb2cc45198a856e0f6073d6b8"
          }
        },
        "d7f5731a7a4a4092a87f5bc1a5fd8fbf": {
          "model_module": "@jupyter-widgets/controls",
          "model_name": "ProgressStyleModel",
          "state": {
            "_view_name": "StyleView",
            "_model_name": "ProgressStyleModel",
            "description_width": "initial",
            "_view_module": "@jupyter-widgets/base",
            "_model_module_version": "1.5.0",
            "_view_count": null,
            "_view_module_version": "1.2.0",
            "bar_color": null,
            "_model_module": "@jupyter-widgets/controls"
          }
        },
        "e4a342a5733944d99d9ad5c28fbae152": {
          "model_module": "@jupyter-widgets/base",
          "model_name": "LayoutModel",
          "state": {
            "_view_name": "LayoutView",
            "grid_template_rows": null,
            "right": null,
            "justify_content": null,
            "_view_module": "@jupyter-widgets/base",
            "overflow": null,
            "_model_module_version": "1.2.0",
            "_view_count": null,
            "flex_flow": null,
            "width": null,
            "min_width": null,
            "border": null,
            "align_items": null,
            "bottom": null,
            "_model_module": "@jupyter-widgets/base",
            "top": null,
            "grid_column": null,
            "overflow_y": null,
            "overflow_x": null,
            "grid_auto_flow": null,
            "grid_area": null,
            "grid_template_columns": null,
            "flex": null,
            "_model_name": "LayoutModel",
            "justify_items": null,
            "grid_row": null,
            "max_height": null,
            "align_content": null,
            "visibility": null,
            "align_self": null,
            "height": null,
            "min_height": null,
            "padding": null,
            "grid_auto_rows": null,
            "grid_gap": null,
            "max_width": null,
            "order": null,
            "_view_module_version": "1.2.0",
            "grid_template_areas": null,
            "object_position": null,
            "object_fit": null,
            "grid_auto_columns": null,
            "margin": null,
            "display": null,
            "left": null
          }
        },
        "ca8a61af805e486fa3043f5086af79dc": {
          "model_module": "@jupyter-widgets/controls",
          "model_name": "DescriptionStyleModel",
          "state": {
            "_view_name": "StyleView",
            "_model_name": "DescriptionStyleModel",
            "description_width": "",
            "_view_module": "@jupyter-widgets/base",
            "_model_module_version": "1.5.0",
            "_view_count": null,
            "_view_module_version": "1.2.0",
            "_model_module": "@jupyter-widgets/controls"
          }
        },
        "b6220d6cb2cc45198a856e0f6073d6b8": {
          "model_module": "@jupyter-widgets/base",
          "model_name": "LayoutModel",
          "state": {
            "_view_name": "LayoutView",
            "grid_template_rows": null,
            "right": null,
            "justify_content": null,
            "_view_module": "@jupyter-widgets/base",
            "overflow": null,
            "_model_module_version": "1.2.0",
            "_view_count": null,
            "flex_flow": null,
            "width": null,
            "min_width": null,
            "border": null,
            "align_items": null,
            "bottom": null,
            "_model_module": "@jupyter-widgets/base",
            "top": null,
            "grid_column": null,
            "overflow_y": null,
            "overflow_x": null,
            "grid_auto_flow": null,
            "grid_area": null,
            "grid_template_columns": null,
            "flex": null,
            "_model_name": "LayoutModel",
            "justify_items": null,
            "grid_row": null,
            "max_height": null,
            "align_content": null,
            "visibility": null,
            "align_self": null,
            "height": null,
            "min_height": null,
            "padding": null,
            "grid_auto_rows": null,
            "grid_gap": null,
            "max_width": null,
            "order": null,
            "_view_module_version": "1.2.0",
            "grid_template_areas": null,
            "object_position": null,
            "object_fit": null,
            "grid_auto_columns": null,
            "margin": null,
            "display": null,
            "left": null
          }
        },
        "674c87d5d3ad430e8e5b6ea4e7a9f48c": {
          "model_module": "@jupyter-widgets/controls",
          "model_name": "HBoxModel",
          "state": {
            "_view_name": "HBoxView",
            "_dom_classes": [],
            "_model_name": "HBoxModel",
            "_view_module": "@jupyter-widgets/controls",
            "_model_module_version": "1.5.0",
            "_view_count": null,
            "_view_module_version": "1.5.0",
            "box_style": "",
            "layout": "IPY_MODEL_81dba78abdd648c795cdeacd6f3f2b03",
            "_model_module": "@jupyter-widgets/controls",
            "children": [
              "IPY_MODEL_aef82f1e26e449b485b564340a1e60e8",
              "IPY_MODEL_4247712d664a429b887ee830c5cf9155"
            ]
          }
        },
        "81dba78abdd648c795cdeacd6f3f2b03": {
          "model_module": "@jupyter-widgets/base",
          "model_name": "LayoutModel",
          "state": {
            "_view_name": "LayoutView",
            "grid_template_rows": null,
            "right": null,
            "justify_content": null,
            "_view_module": "@jupyter-widgets/base",
            "overflow": null,
            "_model_module_version": "1.2.0",
            "_view_count": null,
            "flex_flow": null,
            "width": null,
            "min_width": null,
            "border": null,
            "align_items": null,
            "bottom": null,
            "_model_module": "@jupyter-widgets/base",
            "top": null,
            "grid_column": null,
            "overflow_y": null,
            "overflow_x": null,
            "grid_auto_flow": null,
            "grid_area": null,
            "grid_template_columns": null,
            "flex": null,
            "_model_name": "LayoutModel",
            "justify_items": null,
            "grid_row": null,
            "max_height": null,
            "align_content": null,
            "visibility": null,
            "align_self": null,
            "height": null,
            "min_height": null,
            "padding": null,
            "grid_auto_rows": null,
            "grid_gap": null,
            "max_width": null,
            "order": null,
            "_view_module_version": "1.2.0",
            "grid_template_areas": null,
            "object_position": null,
            "object_fit": null,
            "grid_auto_columns": null,
            "margin": null,
            "display": null,
            "left": null
          }
        },
        "aef82f1e26e449b485b564340a1e60e8": {
          "model_module": "@jupyter-widgets/controls",
          "model_name": "FloatProgressModel",
          "state": {
            "_view_name": "ProgressView",
            "style": "IPY_MODEL_3f39f9df98ea4cb5b045c2950dc06249",
            "_dom_classes": [],
            "description": "Downloading: 100%",
            "_model_name": "FloatProgressModel",
            "bar_style": "success",
            "max": 625,
            "_view_module": "@jupyter-widgets/controls",
            "_model_module_version": "1.5.0",
            "value": 625,
            "_view_count": null,
            "_view_module_version": "1.5.0",
            "orientation": "horizontal",
            "min": 0,
            "description_tooltip": null,
            "_model_module": "@jupyter-widgets/controls",
            "layout": "IPY_MODEL_132ec4a9738b4a29b68916cf3c5dab9c"
          }
        },
        "4247712d664a429b887ee830c5cf9155": {
          "model_module": "@jupyter-widgets/controls",
          "model_name": "HTMLModel",
          "state": {
            "_view_name": "HTMLView",
            "style": "IPY_MODEL_5a005383f41141a8a1d054d4fcc6ac16",
            "_dom_classes": [],
            "description": "",
            "_model_name": "HTMLModel",
            "placeholder": "​",
            "_view_module": "@jupyter-widgets/controls",
            "_model_module_version": "1.5.0",
            "value": " 625/625 [00:00&lt;00:00, 1.44kB/s]",
            "_view_count": null,
            "_view_module_version": "1.5.0",
            "description_tooltip": null,
            "_model_module": "@jupyter-widgets/controls",
            "layout": "IPY_MODEL_ec625b049c5443418a739c7cb872b2eb"
          }
        },
        "3f39f9df98ea4cb5b045c2950dc06249": {
          "model_module": "@jupyter-widgets/controls",
          "model_name": "ProgressStyleModel",
          "state": {
            "_view_name": "StyleView",
            "_model_name": "ProgressStyleModel",
            "description_width": "initial",
            "_view_module": "@jupyter-widgets/base",
            "_model_module_version": "1.5.0",
            "_view_count": null,
            "_view_module_version": "1.2.0",
            "bar_color": null,
            "_model_module": "@jupyter-widgets/controls"
          }
        },
        "132ec4a9738b4a29b68916cf3c5dab9c": {
          "model_module": "@jupyter-widgets/base",
          "model_name": "LayoutModel",
          "state": {
            "_view_name": "LayoutView",
            "grid_template_rows": null,
            "right": null,
            "justify_content": null,
            "_view_module": "@jupyter-widgets/base",
            "overflow": null,
            "_model_module_version": "1.2.0",
            "_view_count": null,
            "flex_flow": null,
            "width": null,
            "min_width": null,
            "border": null,
            "align_items": null,
            "bottom": null,
            "_model_module": "@jupyter-widgets/base",
            "top": null,
            "grid_column": null,
            "overflow_y": null,
            "overflow_x": null,
            "grid_auto_flow": null,
            "grid_area": null,
            "grid_template_columns": null,
            "flex": null,
            "_model_name": "LayoutModel",
            "justify_items": null,
            "grid_row": null,
            "max_height": null,
            "align_content": null,
            "visibility": null,
            "align_self": null,
            "height": null,
            "min_height": null,
            "padding": null,
            "grid_auto_rows": null,
            "grid_gap": null,
            "max_width": null,
            "order": null,
            "_view_module_version": "1.2.0",
            "grid_template_areas": null,
            "object_position": null,
            "object_fit": null,
            "grid_auto_columns": null,
            "margin": null,
            "display": null,
            "left": null
          }
        },
        "5a005383f41141a8a1d054d4fcc6ac16": {
          "model_module": "@jupyter-widgets/controls",
          "model_name": "DescriptionStyleModel",
          "state": {
            "_view_name": "StyleView",
            "_model_name": "DescriptionStyleModel",
            "description_width": "",
            "_view_module": "@jupyter-widgets/base",
            "_model_module_version": "1.5.0",
            "_view_count": null,
            "_view_module_version": "1.2.0",
            "_model_module": "@jupyter-widgets/controls"
          }
        },
        "ec625b049c5443418a739c7cb872b2eb": {
          "model_module": "@jupyter-widgets/base",
          "model_name": "LayoutModel",
          "state": {
            "_view_name": "LayoutView",
            "grid_template_rows": null,
            "right": null,
            "justify_content": null,
            "_view_module": "@jupyter-widgets/base",
            "overflow": null,
            "_model_module_version": "1.2.0",
            "_view_count": null,
            "flex_flow": null,
            "width": null,
            "min_width": null,
            "border": null,
            "align_items": null,
            "bottom": null,
            "_model_module": "@jupyter-widgets/base",
            "top": null,
            "grid_column": null,
            "overflow_y": null,
            "overflow_x": null,
            "grid_auto_flow": null,
            "grid_area": null,
            "grid_template_columns": null,
            "flex": null,
            "_model_name": "LayoutModel",
            "justify_items": null,
            "grid_row": null,
            "max_height": null,
            "align_content": null,
            "visibility": null,
            "align_self": null,
            "height": null,
            "min_height": null,
            "padding": null,
            "grid_auto_rows": null,
            "grid_gap": null,
            "max_width": null,
            "order": null,
            "_view_module_version": "1.2.0",
            "grid_template_areas": null,
            "object_position": null,
            "object_fit": null,
            "grid_auto_columns": null,
            "margin": null,
            "display": null,
            "left": null
          }
        },
        "d75238fe1e3f49da896861e35f90bd43": {
          "model_module": "@jupyter-widgets/controls",
          "model_name": "HBoxModel",
          "state": {
            "_view_name": "HBoxView",
            "_dom_classes": [],
            "_model_name": "HBoxModel",
            "_view_module": "@jupyter-widgets/controls",
            "_model_module_version": "1.5.0",
            "_view_count": null,
            "_view_module_version": "1.5.0",
            "box_style": "",
            "layout": "IPY_MODEL_c0f9ee0e3be14b60badd7e6ce2d728a9",
            "_model_module": "@jupyter-widgets/controls",
            "children": [
              "IPY_MODEL_f2135d21e4354edb9c21e7b775362f26",
              "IPY_MODEL_3f456dfd83ce4ee18ea08492d5fe5bb0"
            ]
          }
        },
        "c0f9ee0e3be14b60badd7e6ce2d728a9": {
          "model_module": "@jupyter-widgets/base",
          "model_name": "LayoutModel",
          "state": {
            "_view_name": "LayoutView",
            "grid_template_rows": null,
            "right": null,
            "justify_content": null,
            "_view_module": "@jupyter-widgets/base",
            "overflow": null,
            "_model_module_version": "1.2.0",
            "_view_count": null,
            "flex_flow": null,
            "width": null,
            "min_width": null,
            "border": null,
            "align_items": null,
            "bottom": null,
            "_model_module": "@jupyter-widgets/base",
            "top": null,
            "grid_column": null,
            "overflow_y": null,
            "overflow_x": null,
            "grid_auto_flow": null,
            "grid_area": null,
            "grid_template_columns": null,
            "flex": null,
            "_model_name": "LayoutModel",
            "justify_items": null,
            "grid_row": null,
            "max_height": null,
            "align_content": null,
            "visibility": null,
            "align_self": null,
            "height": null,
            "min_height": null,
            "padding": null,
            "grid_auto_rows": null,
            "grid_gap": null,
            "max_width": null,
            "order": null,
            "_view_module_version": "1.2.0",
            "grid_template_areas": null,
            "object_position": null,
            "object_fit": null,
            "grid_auto_columns": null,
            "margin": null,
            "display": null,
            "left": null
          }
        },
        "f2135d21e4354edb9c21e7b775362f26": {
          "model_module": "@jupyter-widgets/controls",
          "model_name": "FloatProgressModel",
          "state": {
            "_view_name": "ProgressView",
            "style": "IPY_MODEL_0d6600ba48d44cba8383aceecb27f55a",
            "_dom_classes": [],
            "description": "Downloading: 100%",
            "_model_name": "FloatProgressModel",
            "bar_style": "success",
            "max": 1083389348,
            "_view_module": "@jupyter-widgets/controls",
            "_model_module_version": "1.5.0",
            "value": 1083389348,
            "_view_count": null,
            "_view_module_version": "1.5.0",
            "orientation": "horizontal",
            "min": 0,
            "description_tooltip": null,
            "_model_module": "@jupyter-widgets/controls",
            "layout": "IPY_MODEL_d9f2c97d1eba45e492fc02e91106197e"
          }
        },
        "3f456dfd83ce4ee18ea08492d5fe5bb0": {
          "model_module": "@jupyter-widgets/controls",
          "model_name": "HTMLModel",
          "state": {
            "_view_name": "HTMLView",
            "style": "IPY_MODEL_9f0ba3776b6e42d5a80a3159be115b3f",
            "_dom_classes": [],
            "description": "",
            "_model_name": "HTMLModel",
            "placeholder": "​",
            "_view_module": "@jupyter-widgets/controls",
            "_model_module_version": "1.5.0",
            "value": " 1.08G/1.08G [00:15&lt;00:00, 67.9MB/s]",
            "_view_count": null,
            "_view_module_version": "1.5.0",
            "description_tooltip": null,
            "_model_module": "@jupyter-widgets/controls",
            "layout": "IPY_MODEL_4826545022684eae9b391a0a27fa8d49"
          }
        },
        "0d6600ba48d44cba8383aceecb27f55a": {
          "model_module": "@jupyter-widgets/controls",
          "model_name": "ProgressStyleModel",
          "state": {
            "_view_name": "StyleView",
            "_model_name": "ProgressStyleModel",
            "description_width": "initial",
            "_view_module": "@jupyter-widgets/base",
            "_model_module_version": "1.5.0",
            "_view_count": null,
            "_view_module_version": "1.2.0",
            "bar_color": null,
            "_model_module": "@jupyter-widgets/controls"
          }
        },
        "d9f2c97d1eba45e492fc02e91106197e": {
          "model_module": "@jupyter-widgets/base",
          "model_name": "LayoutModel",
          "state": {
            "_view_name": "LayoutView",
            "grid_template_rows": null,
            "right": null,
            "justify_content": null,
            "_view_module": "@jupyter-widgets/base",
            "overflow": null,
            "_model_module_version": "1.2.0",
            "_view_count": null,
            "flex_flow": null,
            "width": null,
            "min_width": null,
            "border": null,
            "align_items": null,
            "bottom": null,
            "_model_module": "@jupyter-widgets/base",
            "top": null,
            "grid_column": null,
            "overflow_y": null,
            "overflow_x": null,
            "grid_auto_flow": null,
            "grid_area": null,
            "grid_template_columns": null,
            "flex": null,
            "_model_name": "LayoutModel",
            "justify_items": null,
            "grid_row": null,
            "max_height": null,
            "align_content": null,
            "visibility": null,
            "align_self": null,
            "height": null,
            "min_height": null,
            "padding": null,
            "grid_auto_rows": null,
            "grid_gap": null,
            "max_width": null,
            "order": null,
            "_view_module_version": "1.2.0",
            "grid_template_areas": null,
            "object_position": null,
            "object_fit": null,
            "grid_auto_columns": null,
            "margin": null,
            "display": null,
            "left": null
          }
        },
        "9f0ba3776b6e42d5a80a3159be115b3f": {
          "model_module": "@jupyter-widgets/controls",
          "model_name": "DescriptionStyleModel",
          "state": {
            "_view_name": "StyleView",
            "_model_name": "DescriptionStyleModel",
            "description_width": "",
            "_view_module": "@jupyter-widgets/base",
            "_model_module_version": "1.5.0",
            "_view_count": null,
            "_view_module_version": "1.2.0",
            "_model_module": "@jupyter-widgets/controls"
          }
        },
        "4826545022684eae9b391a0a27fa8d49": {
          "model_module": "@jupyter-widgets/base",
          "model_name": "LayoutModel",
          "state": {
            "_view_name": "LayoutView",
            "grid_template_rows": null,
            "right": null,
            "justify_content": null,
            "_view_module": "@jupyter-widgets/base",
            "overflow": null,
            "_model_module_version": "1.2.0",
            "_view_count": null,
            "flex_flow": null,
            "width": null,
            "min_width": null,
            "border": null,
            "align_items": null,
            "bottom": null,
            "_model_module": "@jupyter-widgets/base",
            "top": null,
            "grid_column": null,
            "overflow_y": null,
            "overflow_x": null,
            "grid_auto_flow": null,
            "grid_area": null,
            "grid_template_columns": null,
            "flex": null,
            "_model_name": "LayoutModel",
            "justify_items": null,
            "grid_row": null,
            "max_height": null,
            "align_content": null,
            "visibility": null,
            "align_self": null,
            "height": null,
            "min_height": null,
            "padding": null,
            "grid_auto_rows": null,
            "grid_gap": null,
            "max_width": null,
            "order": null,
            "_view_module_version": "1.2.0",
            "grid_template_areas": null,
            "object_position": null,
            "object_fit": null,
            "grid_auto_columns": null,
            "margin": null,
            "display": null,
            "left": null
          }
        }
      }
    },
    "accelerator": "GPU"
  },
  "cells": [
    {
      "cell_type": "code",
      "metadata": {
        "id": "vIx89jMlulpx"
      },
      "source": [
        "pip install transformers"
      ],
      "execution_count": null,
      "outputs": []
    },
    {
      "cell_type": "code",
      "metadata": {
        "id": "Q_5oF7vBwyCC"
      },
      "source": [
        "import pandas as pd \r\n",
        "import numpy as np\r\n",
        "\r\n",
        "from sklearn.model_selection import train_test_split\r\n",
        "\r\n",
        "import os\r\n",
        "import tensorflow as tf\r\n",
        "from transformers import BertTokenizer, TFBertModel\r\n",
        "\r\n",
        "from tensorflow.keras.preprocessing.sequence import pad_sequences\r\n",
        "from tensorflow.keras.callbacks import EarlyStopping, ModelCheckpoint\r\n",
        "import tensorflow_hub as hub\r\n",
        "\r\n",
        "import matplotlib.pyplot as plt\r\n",
        "\r\n",
        "from tqdm import tqdm\r\n",
        "import numpy as np\r\n",
        "import re\r\n",
        "\r\n",
        "from keras.callbacks import ModelCheckpoint, EarlyStopping, ReduceLROnPlateau"
      ],
      "execution_count": null,
      "outputs": []
    },
    {
      "cell_type": "markdown",
      "metadata": {
        "id": "wCUOEi_V0gFV"
      },
      "source": [
        "# preprocessing\r\n"
      ]
    },
    {
      "cell_type": "code",
      "metadata": {
        "colab": {
          "base_uri": "https://localhost:8080/",
          "height": 407
        },
        "id": "PPqVkWwEw9Hf",
        "outputId": "ffcc1d1f-c825-4bc5-f3f1-70ed8b4187b0"
      },
      "source": [
        "# train data load\r\n",
        "df = pd.read_csv('/content/drive/MyDrive/chatbot_data/final.csv', encoding='cp949')\r\n",
        "df = df.iloc[:,0:3]\r\n",
        "df"
      ],
      "execution_count": null,
      "outputs": [
        {
          "output_type": "execute_result",
          "data": {
            "text/html": [
              "<div>\n",
              "<style scoped>\n",
              "    .dataframe tbody tr th:only-of-type {\n",
              "        vertical-align: middle;\n",
              "    }\n",
              "\n",
              "    .dataframe tbody tr th {\n",
              "        vertical-align: top;\n",
              "    }\n",
              "\n",
              "    .dataframe thead th {\n",
              "        text-align: right;\n",
              "    }\n",
              "</style>\n",
              "<table border=\"1\" class=\"dataframe\">\n",
              "  <thead>\n",
              "    <tr style=\"text-align: right;\">\n",
              "      <th></th>\n",
              "      <th>질문1</th>\n",
              "      <th>질문2</th>\n",
              "      <th>유사도</th>\n",
              "    </tr>\n",
              "  </thead>\n",
              "  <tbody>\n",
              "    <tr>\n",
              "      <th>0</th>\n",
              "      <td>고려청자가 처음 만들어진 시기 알려줘</td>\n",
              "      <td>산수무늬 뭘까?</td>\n",
              "      <td>0</td>\n",
              "    </tr>\n",
              "    <tr>\n",
              "      <th>1</th>\n",
              "      <td>표형병 알려줘</td>\n",
              "      <td>뇌문 알려줘</td>\n",
              "      <td>0</td>\n",
              "    </tr>\n",
              "    <tr>\n",
              "      <th>2</th>\n",
              "      <td>우리나라에서 도자기를 맨처음 만든사람이 누구에요?</td>\n",
              "      <td>구름 용무늬 항아리 설명</td>\n",
              "      <td>0</td>\n",
              "    </tr>\n",
              "    <tr>\n",
              "      <th>3</th>\n",
              "      <td>대나무무늬 설명</td>\n",
              "      <td>도침 알려줘</td>\n",
              "      <td>0</td>\n",
              "    </tr>\n",
              "    <tr>\n",
              "      <th>4</th>\n",
              "      <td>도자기가 변화한 순서를 알려주세요.</td>\n",
              "      <td>토제소상 설명</td>\n",
              "      <td>0</td>\n",
              "    </tr>\n",
              "    <tr>\n",
              "      <th>...</th>\n",
              "      <td>...</td>\n",
              "      <td>...</td>\n",
              "      <td>...</td>\n",
              "    </tr>\n",
              "    <tr>\n",
              "      <th>23627</th>\n",
              "      <td>문자무늬모양</td>\n",
              "      <td>문자무늬</td>\n",
              "      <td>1</td>\n",
              "    </tr>\n",
              "    <tr>\n",
              "      <th>23628</th>\n",
              "      <td>문자무늬모양</td>\n",
              "      <td>문자무늬 궁금해</td>\n",
              "      <td>1</td>\n",
              "    </tr>\n",
              "    <tr>\n",
              "      <th>23629</th>\n",
              "      <td>문자무늬 뭘까?</td>\n",
              "      <td>문자무늬</td>\n",
              "      <td>1</td>\n",
              "    </tr>\n",
              "    <tr>\n",
              "      <th>23630</th>\n",
              "      <td>문자무늬 뭘까?</td>\n",
              "      <td>문자무늬 궁금해</td>\n",
              "      <td>1</td>\n",
              "    </tr>\n",
              "    <tr>\n",
              "      <th>23631</th>\n",
              "      <td>문자무늬</td>\n",
              "      <td>문자무늬 궁금해</td>\n",
              "      <td>1</td>\n",
              "    </tr>\n",
              "  </tbody>\n",
              "</table>\n",
              "<p>23632 rows × 3 columns</p>\n",
              "</div>"
            ],
            "text/plain": [
              "                               질문1            질문2  유사도\n",
              "0             고려청자가 처음 만들어진 시기 알려줘       산수무늬 뭘까?    0\n",
              "1                          표형병 알려줘         뇌문 알려줘    0\n",
              "2      우리나라에서 도자기를 맨처음 만든사람이 누구에요?  구름 용무늬 항아리 설명    0\n",
              "3                         대나무무늬 설명         도침 알려줘    0\n",
              "4              도자기가 변화한 순서를 알려주세요.        토제소상 설명    0\n",
              "...                            ...            ...  ...\n",
              "23627                       문자무늬모양           문자무늬    1\n",
              "23628                       문자무늬모양       문자무늬 궁금해    1\n",
              "23629                     문자무늬 뭘까?           문자무늬    1\n",
              "23630                     문자무늬 뭘까?       문자무늬 궁금해    1\n",
              "23631                         문자무늬       문자무늬 궁금해    1\n",
              "\n",
              "[23632 rows x 3 columns]"
            ]
          },
          "metadata": {
            "tags": []
          },
          "execution_count": 3
        }
      ]
    },
    {
      "cell_type": "code",
      "metadata": {
        "id": "UC4BrlBxxBLt"
      },
      "source": [
        "#test data split\r\n",
        "train_data, dev_data = train_test_split(df, test_size=0.1, shuffle=True, stratify=df['유사도'], random_state=0)"
      ],
      "execution_count": null,
      "outputs": []
    },
    {
      "cell_type": "code",
      "metadata": {
        "colab": {
          "base_uri": "https://localhost:8080/",
          "height": 67,
          "referenced_widgets": [
            "1f07dd969f414db7a7ebaec64a29bbf5",
            "1dbfd81d42ec435ab7f7cb685a3e9d1e",
            "3727e7dfbb2b499e91d81e7478481f2d",
            "98af509c15c64c6789cba514dd8bb5fb",
            "d7f5731a7a4a4092a87f5bc1a5fd8fbf",
            "e4a342a5733944d99d9ad5c28fbae152",
            "ca8a61af805e486fa3043f5086af79dc",
            "b6220d6cb2cc45198a856e0f6073d6b8"
          ]
        },
        "id": "qpwIxo4hxHoA",
        "outputId": "cd94dcc3-df45-4bf3-d5f4-9ad234459af4"
      },
      "source": [
        "#BERT 토크나이저 불러오기\r\n",
        "tokenizer = BertTokenizer.from_pretrained(\"bert-base-multilingual-cased\",\r\n",
        "                                          do_lower_case=False)"
      ],
      "execution_count": null,
      "outputs": [
        {
          "output_type": "display_data",
          "data": {
            "application/vnd.jupyter.widget-view+json": {
              "model_id": "1f07dd969f414db7a7ebaec64a29bbf5",
              "version_minor": 0,
              "version_major": 2
            },
            "text/plain": [
              "HBox(children=(FloatProgress(value=0.0, description='Downloading', max=995526.0, style=ProgressStyle(descripti…"
            ]
          },
          "metadata": {
            "tags": []
          }
        },
        {
          "output_type": "stream",
          "text": [
            "\n"
          ],
          "name": "stdout"
        }
      ]
    },
    {
      "cell_type": "code",
      "metadata": {
        "id": "jb3pnqfNxNTl"
      },
      "source": [
        "#random seed 고정\r\n",
        "tf.random.set_seed(0)\r\n",
        "np.random.seed(0)\r\n",
        "\r\n",
        "# BASE PARAM 지정\r\n",
        "BATCH_SIZE = 32\r\n",
        "NUM_EPOCHS = 100\r\n",
        "MAX_LEN = 35 # 최대 문장길이의 2배"
      ],
      "execution_count": null,
      "outputs": []
    },
    {
      "cell_type": "code",
      "metadata": {
        "id": "n1c2TpvnxObN"
      },
      "source": [
        "# tokenizer 함수\r\n",
        "def bert_tokenizer_v2(sent1, sent2, MAX_LEN):\r\n",
        "    \r\n",
        "    # 2개의 문장을 input 으로 받는다\r\n",
        "    encoded_dict = tokenizer.encode_plus(\r\n",
        "        text = sent1,\r\n",
        "        text_pair = sent2,\r\n",
        "        add_special_tokens = True, # '[CLS]','[SEP]' token 추가\r\n",
        "        max_length = MAX_LEN,   # Pad & truncate all sentences.\r\n",
        "        pad_to_max_length = True,\r\n",
        "        return_attention_mask = True   # Construct attn. masks.\r\n",
        "    )\r\n",
        "    \r\n",
        "    input_id = encoded_dict['input_ids']\r\n",
        "    attention_mask = encoded_dict['attention_mask'] # And its attention mask (simply differentiates padding from non-padding).\r\n",
        "    token_type_id = encoded_dict['token_type_ids'] # differentiate two sentences\r\n",
        "    \r\n",
        "    return input_id, attention_mask, token_type_id\r\n",
        "\r\n",
        "# 정규표현식을 사용해서 특수문자 제거\r\n",
        "\r\n",
        "def clean_text(sent):\r\n",
        "    sent_clean = re.sub(\"[^a-zA-Z0-9ㄱ-ㅣ가-힣\\\\s]\", \" \", sent)\r\n",
        "    return sent_clean"
      ],
      "execution_count": null,
      "outputs": []
    },
    {
      "cell_type": "code",
      "metadata": {
        "id": "4nHgl4QsxRlb"
      },
      "source": [
        "# train set 전처리\r\n",
        "# 전처리 후 list\r\n",
        "input_word_ids = []\r\n",
        "input_mask = []\r\n",
        "input_type_ids = []\r\n",
        "data_labels = []\r\n",
        "\r\n",
        "for sent1, sent2, score in train_data[['질문1', '질문2', '유사도']].values:\r\n",
        "    try:\r\n",
        "        input_id, attention_mask, token_type_id = bert_tokenizer_v2(clean_text(sent1), clean_text(sent2), MAX_LEN)\r\n",
        "        input_word_ids.append(input_id)\r\n",
        "        input_mask.append(attention_mask)\r\n",
        "        input_type_ids.append(token_type_id)\r\n",
        "        data_labels.append(score)\r\n",
        "        \r\n",
        "    # error 대비\r\n",
        "    except Exception as e:\r\n",
        "        print(e)\r\n",
        "        print(sent1, sent2)\r\n",
        "        pass\r\n",
        "    \r\n",
        "train_input_word_ids = np.array(input_word_ids, dtype=int)\r\n",
        "train_input_mask = np.array(input_mask, dtype=int)\r\n",
        "train_type_ids = np.array(input_type_ids, dtype=int)\r\n",
        "train_inputs = (train_input_word_ids, train_input_mask, train_type_ids)\r\n",
        "train_data_labels = np.array(data_labels)"
      ],
      "execution_count": null,
      "outputs": []
    },
    {
      "cell_type": "code",
      "metadata": {
        "id": "3GeaZQ1UxSxg"
      },
      "source": [
        "# validation 전처리\r\n",
        "# train과 같은방식으로 전처리 \r\n",
        "input_ids = []\r\n",
        "attention_masks = []\r\n",
        "token_type_ids = []\r\n",
        "data_labels = []\r\n",
        "\r\n",
        "for sent1, sent2, score in dev_data[['질문1', '질문2', '유사도']].values:\r\n",
        "    try:\r\n",
        "        input_id, attention_mask, token_type_id = bert_tokenizer_v2(clean_text(sent1), clean_text(sent2), MAX_LEN)\r\n",
        "        input_ids.append(input_id)\r\n",
        "        attention_masks.append(attention_mask)\r\n",
        "        token_type_ids.append(token_type_id)\r\n",
        "        data_labels.append(score)\r\n",
        "    except Exception as e:\r\n",
        "        print(e)\r\n",
        "        print(sent1, sent2)\r\n",
        "        pass\r\n",
        "    \r\n",
        "dev_input_ids = np.array(input_ids, dtype=int)\r\n",
        "dev_attention_masks = np.array(attention_masks, dtype=int)\r\n",
        "dev_type_ids = np.array(token_type_ids, dtype=int)\r\n",
        "dev_inputs = (dev_input_ids, dev_attention_masks, dev_type_ids)\r\n",
        "dev_data_labels = np.array(data_labels)"
      ],
      "execution_count": null,
      "outputs": []
    },
    {
      "cell_type": "markdown",
      "metadata": {
        "id": "3k856eA8xZqY"
      },
      "source": [
        "\r\n",
        "# model "
      ]
    },
    {
      "cell_type": "code",
      "metadata": {
        "id": "UVz6mTNzxYgP"
      },
      "source": [
        "# BERT classification model\r\n",
        "\r\n",
        "class TFBertClassification(tf.keras.Model):\r\n",
        "    def __init__(self, model_name, dir_path, num_class):\r\n",
        "        super(TFBertClassification, self).__init__()\r\n",
        "        \r\n",
        "        self.bert = TFBertModel.from_pretrained(model_name, cache_dir=dir_path) # pre-trained model 불러오기\r\n",
        "        self.num_class = num_class \r\n",
        "        self.dropout = tf.keras.layers.Dropout(self.bert.config.hidden_dropout_prob)\r\n",
        "        self.classification = tf.keras.layers.Dense(self.num_class, activation='sigmoid',\r\n",
        "                                                kernel_initializer=tf.keras.initializers.TruncatedNormal(self.bert.config.initializer_range), \r\n",
        "                                                name=\"classification\")\r\n",
        "        \r\n",
        "        \r\n",
        "    def call(self, inputs, attention_mask=None, token_type_ids=None, training=False):\r\n",
        "        \r\n",
        "        #outputs 값: # sequence_output, pooled_output, (hidden_states), (attentions)\r\n",
        "        outputs = self.bert(inputs, attention_mask=attention_mask, token_type_ids=token_type_ids)\r\n",
        "        pooled_output = outputs[1]\r\n",
        "        pooled_output = self.dropout(pooled_output, training=training)\r\n",
        "        logits = self.classification(pooled_output)\r\n",
        "\r\n",
        "        return logits"
      ],
      "execution_count": null,
      "outputs": []
    },
    {
      "cell_type": "code",
      "metadata": {
        "colab": {
          "base_uri": "https://localhost:8080/",
          "height": 228,
          "referenced_widgets": [
            "674c87d5d3ad430e8e5b6ea4e7a9f48c",
            "81dba78abdd648c795cdeacd6f3f2b03",
            "aef82f1e26e449b485b564340a1e60e8",
            "4247712d664a429b887ee830c5cf9155",
            "3f39f9df98ea4cb5b045c2950dc06249",
            "132ec4a9738b4a29b68916cf3c5dab9c",
            "5a005383f41141a8a1d054d4fcc6ac16",
            "ec625b049c5443418a739c7cb872b2eb",
            "d75238fe1e3f49da896861e35f90bd43",
            "c0f9ee0e3be14b60badd7e6ce2d728a9",
            "f2135d21e4354edb9c21e7b775362f26",
            "3f456dfd83ce4ee18ea08492d5fe5bb0",
            "0d6600ba48d44cba8383aceecb27f55a",
            "d9f2c97d1eba45e492fc02e91106197e",
            "9f0ba3776b6e42d5a80a3159be115b3f",
            "4826545022684eae9b391a0a27fa8d49"
          ]
        },
        "id": "J68WfyJ-vasS",
        "outputId": "321eb478-cafd-4426-a664-ee9769cd146b"
      },
      "source": [
        "classification_model = TFBertRegressor(model_name='bert-base-multilingual-cased',\r\n",
        "                                  dir_path='bert_ckpt',\r\n",
        "                                  num_class=1)"
      ],
      "execution_count": null,
      "outputs": [
        {
          "output_type": "display_data",
          "data": {
            "application/vnd.jupyter.widget-view+json": {
              "model_id": "674c87d5d3ad430e8e5b6ea4e7a9f48c",
              "version_minor": 0,
              "version_major": 2
            },
            "text/plain": [
              "HBox(children=(FloatProgress(value=0.0, description='Downloading', max=625.0, style=ProgressStyle(description_…"
            ]
          },
          "metadata": {
            "tags": []
          }
        },
        {
          "output_type": "stream",
          "text": [
            "\n"
          ],
          "name": "stdout"
        },
        {
          "output_type": "display_data",
          "data": {
            "application/vnd.jupyter.widget-view+json": {
              "model_id": "d75238fe1e3f49da896861e35f90bd43",
              "version_minor": 0,
              "version_major": 2
            },
            "text/plain": [
              "HBox(children=(FloatProgress(value=0.0, description='Downloading', max=1083389348.0, style=ProgressStyle(descr…"
            ]
          },
          "metadata": {
            "tags": []
          }
        },
        {
          "output_type": "stream",
          "text": [
            "\n"
          ],
          "name": "stdout"
        },
        {
          "output_type": "stream",
          "text": [
            "Some layers from the model checkpoint at bert-base-multilingual-cased were not used when initializing TFBertModel: ['mlm___cls', 'nsp___cls']\n",
            "- This IS expected if you are initializing TFBertModel from the checkpoint of a model trained on another task or with another architecture (e.g. initializing a BertForSequenceClassification model from a BertForPreTraining model).\n",
            "- This IS NOT expected if you are initializing TFBertModel from the checkpoint of a model that you expect to be exactly identical (initializing a BertForSequenceClassification model from a BertForSequenceClassification model).\n",
            "All the layers of TFBertModel were initialized from the model checkpoint at bert-base-multilingual-cased.\n",
            "If your task is similar to the task the model of the checkpoint was trained on, you can already use TFBertModel for predictions without further training.\n"
          ],
          "name": "stderr"
        }
      ]
    },
    {
      "cell_type": "code",
      "metadata": {
        "id": "gOv7tMBmvdvf"
      },
      "source": [
        "optimizer = tf.keras.optimizers.Adam(3e-5)\r\n",
        "# loss = tf.keras.losses.MeanSquaredError()\r\n",
        "classification_model.compile(optimizer=optimizer, loss='binary_crossentropy', metrics=['accuracy'], run_eagerly=True)"
      ],
      "execution_count": null,
      "outputs": []
    },
    {
      "cell_type": "code",
      "metadata": {
        "colab": {
          "base_uri": "https://localhost:8080/"
        },
        "id": "RuGBJO3-x4bO",
        "outputId": "78c61288-19ec-4ab7-ffec-e073189377b3"
      },
      "source": [
        "#학습 진행하기\r\n",
        "model_name = \"tf2_BERT\"\r\n",
        "\r\n",
        "# overfitting을 막기 위한 ealrystop 추가\r\n",
        "earlystop_callback = EarlyStopping(monitor='val_loss', min_delta=0.0001,patience=5,mode='min')\r\n",
        "\r\n",
        "checkpoint_path = os.path.join('/content/drive/MyDrive/', model_name, 'weights.ckpt')\r\n",
        "checkpoint_dir = os.path.dirname(checkpoint_path)\r\n",
        "\r\n",
        "# Create path if exists\r\n",
        "if os.path.exists(checkpoint_dir):\r\n",
        "    print(\"{} -- Folder already exists \\n\".format(checkpoint_dir))\r\n",
        "else:\r\n",
        "    os.makedirs(checkpoint_dir, exist_ok=True)\r\n",
        "    print(\"{} -- Folder create complete \\n\".format(checkpoint_dir))\r\n",
        "    \r\n",
        "cp_callback = ModelCheckpoint(\r\n",
        "    checkpoint_path, monitor='val_accuracy', verbose=1, save_best_only=True, save_weights_only=True,mode='max')"
      ],
      "execution_count": null,
      "outputs": [
        {
          "output_type": "stream",
          "text": [
            "/content/drive/MyDrive/tf2_BERT -- Folder create complete \n",
            "\n"
          ],
          "name": "stdout"
        }
      ]
    },
    {
      "cell_type": "code",
      "metadata": {
        "colab": {
          "base_uri": "https://localhost:8080/"
        },
        "id": "DEvPxPwZ2qFi",
        "outputId": "6f3c3684-83ae-4ac2-dae2-c8425b34f47a"
      },
      "source": [
        "# 학습과 eval 시작\r\n",
        "history = classification_model.fit(train_inputs, train_data_labels, epochs=10,\r\n",
        "            validation_data = (dev_inputs, dev_data_labels),\r\n",
        "            batch_size=32, callbacks=[earlystop_callback, cp_callback])\r\n",
        "\r\n",
        "#steps_for_epoch\r\n",
        "print(history.history)"
      ],
      "execution_count": null,
      "outputs": [
        {
          "output_type": "stream",
          "text": [
            "Epoch 1/10\n",
            "665/665 [==============================] - 227s 341ms/step - loss: 0.0977 - accuracy: 0.9714 - val_loss: 0.0199 - val_accuracy: 0.9953\n",
            "\n",
            "Epoch 00001: val_accuracy improved from -inf to 0.99535, saving model to /content/drive/MyDrive/tf2_BERT/weights.ckpt\n",
            "Epoch 2/10\n",
            "665/665 [==============================] - 230s 345ms/step - loss: 0.0251 - accuracy: 0.9932 - val_loss: 0.0146 - val_accuracy: 0.9966\n",
            "\n",
            "Epoch 00002: val_accuracy improved from 0.99535 to 0.99662, saving model to /content/drive/MyDrive/tf2_BERT/weights.ckpt\n",
            "Epoch 3/10\n",
            "665/665 [==============================] - 242s 363ms/step - loss: 0.0125 - accuracy: 0.9965 - val_loss: 0.0212 - val_accuracy: 0.9932\n",
            "\n",
            "Epoch 00003: val_accuracy did not improve from 0.99662\n",
            "Epoch 4/10\n",
            "665/665 [==============================] - 226s 340ms/step - loss: 0.0106 - accuracy: 0.9959 - val_loss: 0.0189 - val_accuracy: 0.9962\n",
            "\n",
            "Epoch 00004: val_accuracy did not improve from 0.99662\n",
            "Epoch 5/10\n",
            "665/665 [==============================] - 226s 340ms/step - loss: 0.0076 - accuracy: 0.9973 - val_loss: 0.0134 - val_accuracy: 0.9970\n",
            "\n",
            "Epoch 00005: val_accuracy improved from 0.99662 to 0.99704, saving model to /content/drive/MyDrive/tf2_BERT/weights.ckpt\n",
            "Epoch 6/10\n",
            "665/665 [==============================] - 242s 364ms/step - loss: 0.0062 - accuracy: 0.9982 - val_loss: 0.0099 - val_accuracy: 0.9958\n",
            "\n",
            "Epoch 00006: val_accuracy did not improve from 0.99704\n",
            "Epoch 7/10\n",
            "665/665 [==============================] - 226s 339ms/step - loss: 0.0050 - accuracy: 0.9987 - val_loss: 0.0176 - val_accuracy: 0.9958\n",
            "\n",
            "Epoch 00007: val_accuracy did not improve from 0.99704\n",
            "Epoch 8/10\n",
            "665/665 [==============================] - 225s 339ms/step - loss: 0.0059 - accuracy: 0.9978 - val_loss: 0.0200 - val_accuracy: 0.9962\n",
            "\n",
            "Epoch 00008: val_accuracy did not improve from 0.99704\n",
            "Epoch 9/10\n",
            "665/665 [==============================] - 226s 340ms/step - loss: 0.0059 - accuracy: 0.9987 - val_loss: 0.0163 - val_accuracy: 0.9966\n",
            "\n",
            "Epoch 00009: val_accuracy did not improve from 0.99704\n",
            "Epoch 10/10\n",
            "665/665 [==============================] - 227s 341ms/step - loss: 0.0028 - accuracy: 0.9996 - val_loss: 0.0213 - val_accuracy: 0.9962\n",
            "\n",
            "Epoch 00010: val_accuracy did not improve from 0.99704\n",
            "{'loss': [0.05388247221708298, 0.024055659770965576, 0.014911395497620106, 0.010956836864352226, 0.009714261628687382, 0.005023057106882334, 0.007051332853734493, 0.008000495843589306, 0.004889472387731075, 0.0030091716907918453], 'accuracy': [0.9857062101364136, 0.9934643507003784, 0.9952040910720825, 0.9960504174232483, 0.9970378279685974, 0.9984953999519348, 0.9980722069740295, 0.9972258806228638, 0.9987775087356567, 0.9994357824325562], 'val_loss': [0.0199066661298275, 0.01461548637598753, 0.02119237557053566, 0.01888185180723667, 0.01337055116891861, 0.009857844561338425, 0.017597345635294914, 0.020030785351991653, 0.016328582540154457, 0.02127549983561039], 'val_accuracy': [0.9953468441963196, 0.9966158866882324, 0.9932318329811096, 0.9961928725242615, 0.9970389008522034, 0.9957698583602905, 0.9957698583602905, 0.9961928725242615, 0.9966158866882324, 0.9961928725242615]}\n"
          ],
          "name": "stdout"
        }
      ]
    },
    {
      "cell_type": "code",
      "metadata": {
        "colab": {
          "base_uri": "https://localhost:8080/",
          "height": 282
        },
        "id": "qXqQ1eeW254V",
        "outputId": "0098378d-3b8f-42ad-a8db-9506832335e4"
      },
      "source": [
        "plot_graphs(history, 'accuracy')"
      ],
      "execution_count": null,
      "outputs": [
        {
          "output_type": "display_data",
          "data": {
            "image/png": "[encoded data removed]",
            "text/plain": [
              "<Figure size 432x288 with 1 Axes>"
            ]
          },
          "metadata": {
            "tags": [],
            "needs_background": "light"
          }
        }
      ]
    },
    {
      "cell_type": "code",
      "metadata": {
        "colab": {
          "base_uri": "https://localhost:8080/",
          "height": 279
        },
        "id": "rcWcwGSABQdd",
        "outputId": "c6a8a12f-3eca-4389-bdb8-367c00bacaf2"
      },
      "source": [
        "plot_graphs(history, 'loss')"
      ],
      "execution_count": null,
      "outputs": [
        {
          "output_type": "display_data",
          "data": {
            "image/png": "[encoded data removed]",
            "text/plain": [
              "<Figure size 432x288 with 1 Axes>"
            ]
          },
          "metadata": {
            "tags": [],
            "needs_background": "light"
          }
        }
      ]
    },
    {
      "cell_type": "code",
      "metadata": {
        "id": "XFTcyAUN1h7r"
      },
      "source": [
        ""
      ],
      "execution_count": null,
      "outputs": []
    },
    {
      "cell_type": "code",
      "metadata": {
        "id": "8KbZV9D91h41"
      },
      "source": [
        ""
      ],
      "execution_count": null,
      "outputs": []
    },
    {
      "cell_type": "markdown",
      "metadata": {
        "id": "4ygzyqyrBaVm"
      },
      "source": [
        "# Test"
      ]
    },
    {
      "cell_type": "code",
      "metadata": {
        "id": "z0hhphIIBSJE"
      },
      "source": [
        "# Load Test dataset\r\n",
        "test_data  = pd.read_csv('/content/drive/MyDrive/chatbot_data/test_set.csv',encoding='cp949')\r\n",
        "test_data = test_data.iloc[:,:3].dropna()"
      ],
      "execution_count": null,
      "outputs": []
    },
    {
      "cell_type": "code",
      "metadata": {
        "id": "Nmp6h--QBbff"
      },
      "source": [
        "# Test set도 똑같은 방법으로 구성\r\n",
        "input_ids = []\r\n",
        "attention_masks = []\r\n",
        "token_type_ids = []\r\n",
        "data_labels = []\r\n",
        "\r\n",
        "for sent1, sent2, score in test_data[['질문1', '질문2', '유사도']].values:\r\n",
        "    try:\r\n",
        "        input_id, attention_mask, token_type_id = bert_tokenizer_v2(clean_text(sent1), clean_text(sent2), MAX_LEN)\r\n",
        "        input_ids.append(input_id)\r\n",
        "        attention_masks.append(attention_mask)\r\n",
        "        token_type_ids.append(token_type_id)\r\n",
        "        data_labels.append(score)\r\n",
        "    except Exception as e:\r\n",
        "        print(e)\r\n",
        "        print(sent1, sent2)\r\n",
        "        pass\r\n",
        "    \r\n",
        "test_input_ids = np.array(input_ids, dtype=int)\r\n",
        "test_attention_masks = np.array(attention_masks, dtype=int)\r\n",
        "test_type_ids = np.array(token_type_ids, dtype=int)\r\n",
        "test_inputs = (test_input_ids, test_attention_masks, test_type_ids)\r\n",
        "test_data_labels = np.array(data_labels)"
      ],
      "execution_count": null,
      "outputs": []
    },
    {
      "cell_type": "code",
      "metadata": {
        "colab": {
          "base_uri": "https://localhost:8080/"
        },
        "id": "8bkvguXyB8oA",
        "outputId": "2460c702-1d79-4514-b7fa-62ec1ffe6cae"
      },
      "source": [
        "print(\"# sents: {}, # labels: {}\".format(len(test_input_ids), len(test_data_labels)))"
      ],
      "execution_count": null,
      "outputs": [
        {
          "output_type": "stream",
          "text": [
            "# sents: 870, # labels: 870\n"
          ],
          "name": "stdout"
        }
      ]
    },
    {
      "cell_type": "code",
      "metadata": {
        "colab": {
          "base_uri": "https://localhost:8080/"
        },
        "id": "BxTAokdaB_Di",
        "outputId": "946adbac-94a1-4000-c460-648bf60dfb9f"
      },
      "source": [
        "results = classification_model.evaluate(test_inputs, test_data_labels, batch_size=512)\r\n",
        "print(\"test loss, test accuracy: \", results)"
      ],
      "execution_count": null,
      "outputs": [
        {
          "output_type": "stream",
          "text": [
            "2/2 [==============================] - 2s 746ms/step - loss: 0.1799 - accuracy: 0.9674\n",
            "test loss, test pearson correlation:  [0.1823945790529251, 0.9666666388511658]\n"
          ],
          "name": "stdout"
        }
      ]
    },
    {
      "cell_type": "code",
      "metadata": {
        "id": "Vrft_x_JCAmK"
      },
      "source": [
        "y = classification_model.predict(test_inputs)\r\n",
        "\r\n",
        "a = []\r\n",
        "\r\n",
        "for i in y:\r\n",
        "    if i > 0.5:\r\n",
        "        a.append(1)\r\n",
        "        \r\n",
        "    else:\r\n",
        "        a.append(0)\r\n",
        "\r\n",
        "print(a)"
      ],
      "execution_count": null,
      "outputs": []
    },
    {
      "cell_type": "code",
      "metadata": {
        "colab": {
          "base_uri": "https://localhost:8080/"
        },
        "id": "UGao4ScFCHAG",
        "outputId": "69529496-54f4-41d2-ee96-c36302e8e6c5"
      },
      "source": [
        "from sklearn.metrics import confusion_matrix\r\n",
        "\r\n",
        "cm = confusion_matrix(a,test_data_labels)\r\n",
        "cm"
      ],
      "execution_count": null,
      "outputs": [
        {
          "output_type": "execute_result",
          "data": {
            "text/plain": [
              "array([[504,   3],\n",
              "       [ 26, 337]])"
            ]
          },
          "metadata": {
            "tags": []
          },
          "execution_count": 26
        }
      ]
    },
    {
      "cell_type": "code",
      "metadata": {
        "id": "Thu20dIACMcK"
      },
      "source": [
        "# cm 구현 함수\r\n",
        "\r\n",
        "import itertools\r\n",
        "\r\n",
        "def plot_confusion_matrix(cm, classes,\r\n",
        "                          normalize=False,\r\n",
        "                          title='Confusion matrix',\r\n",
        "                          cmap=plt.cm.Blues):\r\n",
        "    \"\"\"\r\n",
        "    This function prints and plots the confusion matrix.\r\n",
        "    Normalization can be applied by setting `normalize=True`.\r\n",
        "    \"\"\"\r\n",
        "    plt.imshow(cm, interpolation='nearest', cmap=cmap)\r\n",
        "    plt.title(title)\r\n",
        "    plt.colorbar()\r\n",
        "    tick_marks = np.arange(len(classes))\r\n",
        "    plt.xticks(tick_marks, classes, rotation=45)\r\n",
        "    plt.yticks(tick_marks, classes)\r\n",
        "\r\n",
        "    if normalize:\r\n",
        "        cm = cm.astype('float') / cm.sum(axis=1)[:, np.newaxis]\r\n",
        "        print(\"Normalized confusion matrix\")\r\n",
        "    else:\r\n",
        "        print('Confusion matrix, without normalization')\r\n",
        "\r\n",
        "    print(cm)\r\n",
        "\r\n",
        "    thresh = cm.max() / 2.\r\n",
        "    for i, j in itertools.product(range(cm.shape[0]), range(cm.shape[1])):\r\n",
        "        plt.text(j, i, cm[i, j],\r\n",
        "                 horizontalalignment=\"center\",\r\n",
        "                 color=\"white\" if cm[i, j] > thresh else \"black\")\r\n",
        "\r\n",
        "    plt.tight_layout()\r\n",
        "    plt.ylabel('True label')\r\n",
        "    plt.xlabel('Predicted label')"
      ],
      "execution_count": null,
      "outputs": []
    },
    {
      "cell_type": "code",
      "metadata": {
        "colab": {
          "base_uri": "https://localhost:8080/",
          "height": 365
        },
        "id": "OipFJzBqCQI_",
        "outputId": "7f884a57-8438-4c03-b2df-d04aa545a156"
      },
      "source": [
        "plt.figure()\r\n",
        "plot_confusion_matrix(cm, ['different sent','same sent'], title='Confusion matrix, without normalization')\r\n",
        "plt.savefig('DenseNet_cm.jpg')"
      ],
      "execution_count": null,
      "outputs": [
        {
          "output_type": "stream",
          "text": [
            "Confusion matrix, without normalization\n",
            "[[504   3]\n",
            " [ 26 337]]\n"
          ],
          "name": "stdout"
        },
        {
          "output_type": "display_data",
          "data": {
            "image/png": "[encoded data removed]",
            "text/plain": [
              "<Figure size 432x288 with 2 Axes>"
            ]
          },
          "metadata": {
            "tags": [],
            "needs_background": "light"
          }
        }
      ]
    }
  ]
}